{
 "cells": [
  {
   "cell_type": "code",
   "execution_count": 48,
   "metadata": {
    "collapsed": true
   },
   "outputs": [],
   "source": [
    "import pandas as pd\n",
    "from pandas import Series,DataFrame\n",
    "import numpy as np"
   ]
  },
  {
   "cell_type": "code",
   "execution_count": 49,
   "metadata": {
    "collapsed": false,
    "scrolled": true
   },
   "outputs": [],
   "source": [
    "#data\n",
    "df=pd.read_csv('C:\\Kate\\Python\\Authorship Attribution\\data\\\\techcrunch_posts.csv')"
   ]
  },
  {
   "cell_type": "code",
   "execution_count": 50,
   "metadata": {
    "collapsed": false
   },
   "outputs": [
    {
     "data": {
      "text/plain": [
       "39115"
      ]
     },
     "execution_count": 50,
     "metadata": {},
     "output_type": "execute_result"
    }
   ],
   "source": [
    "len(df)"
   ]
  },
  {
   "cell_type": "code",
   "execution_count": 51,
   "metadata": {
    "collapsed": false
   },
   "outputs": [
    {
     "data": {
      "text/html": [
       "<div>\n",
       "<table border=\"1\" class=\"dataframe\">\n",
       "  <thead>\n",
       "    <tr style=\"text-align: right;\">\n",
       "      <th></th>\n",
       "      <th>authors</th>\n",
       "      <th>category</th>\n",
       "      <th>content</th>\n",
       "      <th>date</th>\n",
       "      <th>id</th>\n",
       "      <th>img_src</th>\n",
       "      <th>section</th>\n",
       "      <th>tags</th>\n",
       "      <th>title</th>\n",
       "      <th>topics</th>\n",
       "      <th>url</th>\n",
       "    </tr>\n",
       "  </thead>\n",
       "  <tbody>\n",
       "    <tr>\n",
       "      <th>0</th>\n",
       "      <td>Dale Chang</td>\n",
       "      <td>Startups</td>\n",
       "      <td>\\n\\nTech investing isn’t what it used to be — ...</td>\n",
       "      <td>2016-10-15</td>\n",
       "      <td>1401293</td>\n",
       "      <td>https://tctechcrunch2011.files.wordpress.com/2...</td>\n",
       "      <td>startups/</td>\n",
       "      <td>data</td>\n",
       "      <td>How startups can use data to grow smarter</td>\n",
       "      <td>NaN</td>\n",
       "      <td>https://techcrunch.com/2016/10/15/how-startups...</td>\n",
       "    </tr>\n",
       "    <tr>\n",
       "      <th>1</th>\n",
       "      <td>Ben Narasin,Jeremy Abelson</td>\n",
       "      <td>Fundings &amp; Exits</td>\n",
       "      <td>\\n\\nThe IPO market is poised to make an almost...</td>\n",
       "      <td>2016-10-14</td>\n",
       "      <td>1399050</td>\n",
       "      <td>https://tctechcrunch2011.files.wordpress.com/2...</td>\n",
       "      <td>startups/</td>\n",
       "      <td>ipo</td>\n",
       "      <td>While the IPO market roars back, venture remai...</td>\n",
       "      <td>NaN</td>\n",
       "      <td>https://techcrunch.com/2016/10/14/while-the-ip...</td>\n",
       "    </tr>\n",
       "    <tr>\n",
       "      <th>2</th>\n",
       "      <td>Matthew Lynley</td>\n",
       "      <td>Apps</td>\n",
       "      <td>Under pressure from shoppers complaining about...</td>\n",
       "      <td>2016-10-14</td>\n",
       "      <td>1401954</td>\n",
       "      <td>https://tctechcrunch2011.files.wordpress.com/2...</td>\n",
       "      <td>startups/</td>\n",
       "      <td>apoorva-mehta</td>\n",
       "      <td>Instacart reverses course, re-introducing tips...</td>\n",
       "      <td>instacart</td>\n",
       "      <td>https://techcrunch.com/2016/10/14/instacart-re...</td>\n",
       "    </tr>\n",
       "    <tr>\n",
       "      <th>3</th>\n",
       "      <td>Matthew Lynley,Ingrid Lunden</td>\n",
       "      <td>Fundings &amp; Exits</td>\n",
       "      <td>PayPal, the giant digital payments company tha...</td>\n",
       "      <td>2016-10-14</td>\n",
       "      <td>1390023</td>\n",
       "      <td>https://tctechcrunch2011.files.wordpress.com/2...</td>\n",
       "      <td>startups/</td>\n",
       "      <td>gofundme</td>\n",
       "      <td>PayPal mulled buying GoFundMe</td>\n",
       "      <td>paypal</td>\n",
       "      <td>https://techcrunch.com/2016/10/14/paypal-gobuyme/</td>\n",
       "    </tr>\n",
       "    <tr>\n",
       "      <th>4</th>\n",
       "      <td>Megan Rose Dickey</td>\n",
       "      <td>Startups</td>\n",
       "      <td>Uber, the ridesharing behemoth that recently b...</td>\n",
       "      <td>2016-10-13</td>\n",
       "      <td>1401633</td>\n",
       "      <td>https://tctechcrunch2011.files.wordpress.com/2...</td>\n",
       "      <td>startups/</td>\n",
       "      <td>lawsuits</td>\n",
       "      <td>Uber hits another roadblock</td>\n",
       "      <td>uber</td>\n",
       "      <td>https://techcrunch.com/2016/10/13/uber-hits-an...</td>\n",
       "    </tr>\n",
       "  </tbody>\n",
       "</table>\n",
       "</div>"
      ],
      "text/plain": [
       "                        authors          category  \\\n",
       "0                    Dale Chang          Startups   \n",
       "1    Ben Narasin,Jeremy Abelson  Fundings & Exits   \n",
       "2                Matthew Lynley              Apps   \n",
       "3  Matthew Lynley,Ingrid Lunden  Fundings & Exits   \n",
       "4             Megan Rose Dickey          Startups   \n",
       "\n",
       "                                             content        date       id  \\\n",
       "0  \\n\\nTech investing isn’t what it used to be — ...  2016-10-15  1401293   \n",
       "1  \\n\\nThe IPO market is poised to make an almost...  2016-10-14  1399050   \n",
       "2  Under pressure from shoppers complaining about...  2016-10-14  1401954   \n",
       "3  PayPal, the giant digital payments company tha...  2016-10-14  1390023   \n",
       "4  Uber, the ridesharing behemoth that recently b...  2016-10-13  1401633   \n",
       "\n",
       "                                             img_src    section  \\\n",
       "0  https://tctechcrunch2011.files.wordpress.com/2...  startups/   \n",
       "1  https://tctechcrunch2011.files.wordpress.com/2...  startups/   \n",
       "2  https://tctechcrunch2011.files.wordpress.com/2...  startups/   \n",
       "3  https://tctechcrunch2011.files.wordpress.com/2...  startups/   \n",
       "4  https://tctechcrunch2011.files.wordpress.com/2...  startups/   \n",
       "\n",
       "            tags                                              title  \\\n",
       "0           data          How startups can use data to grow smarter   \n",
       "1            ipo  While the IPO market roars back, venture remai...   \n",
       "2  apoorva-mehta  Instacart reverses course, re-introducing tips...   \n",
       "3       gofundme                      PayPal mulled buying GoFundMe   \n",
       "4       lawsuits                        Uber hits another roadblock   \n",
       "\n",
       "      topics                                                url  \n",
       "0        NaN  https://techcrunch.com/2016/10/15/how-startups...  \n",
       "1        NaN  https://techcrunch.com/2016/10/14/while-the-ip...  \n",
       "2  instacart  https://techcrunch.com/2016/10/14/instacart-re...  \n",
       "3     paypal  https://techcrunch.com/2016/10/14/paypal-gobuyme/  \n",
       "4       uber  https://techcrunch.com/2016/10/13/uber-hits-an...  "
      ]
     },
     "execution_count": 51,
     "metadata": {},
     "output_type": "execute_result"
    }
   ],
   "source": [
    "df.head()"
   ]
  },
  {
   "cell_type": "code",
   "execution_count": 52,
   "metadata": {
    "collapsed": false
   },
   "outputs": [
    {
     "data": {
      "text/plain": [
       "array(['Dale Chang', 'Ben Narasin,Jeremy Abelson', 'Matthew Lynley', ...,\n",
       "       'Andrew Keen', 'Gang Lu', 'Tarikh Korula'], dtype=object)"
      ]
     },
     "execution_count": 52,
     "metadata": {},
     "output_type": "execute_result"
    }
   ],
   "source": [
    "df.authors.unique()"
   ]
  },
  {
   "cell_type": "code",
   "execution_count": 53,
   "metadata": {
    "collapsed": false
   },
   "outputs": [
    {
     "data": {
      "text/html": [
       "<div>\n",
       "<table border=\"1\" class=\"dataframe\">\n",
       "  <thead>\n",
       "    <tr style=\"text-align: right;\">\n",
       "      <th></th>\n",
       "      <th>counts</th>\n",
       "    </tr>\n",
       "    <tr>\n",
       "      <th>authors</th>\n",
       "      <th></th>\n",
       "    </tr>\n",
       "  </thead>\n",
       "  <tbody>\n",
       "    <tr>\n",
       "      <th>Sarah Perez</th>\n",
       "      <td>3772</td>\n",
       "    </tr>\n",
       "    <tr>\n",
       "      <th>Anthony Ha</th>\n",
       "      <td>3232</td>\n",
       "    </tr>\n",
       "    <tr>\n",
       "      <th>Ingrid Lunden</th>\n",
       "      <td>3026</td>\n",
       "    </tr>\n",
       "    <tr>\n",
       "      <th>Darrell Etherington</th>\n",
       "      <td>2895</td>\n",
       "    </tr>\n",
       "    <tr>\n",
       "      <th>Natasha Lomas</th>\n",
       "      <td>2555</td>\n",
       "    </tr>\n",
       "    <tr>\n",
       "      <th>Jordan Crook</th>\n",
       "      <td>2278</td>\n",
       "    </tr>\n",
       "    <tr>\n",
       "      <th>Josh Constine</th>\n",
       "      <td>2245</td>\n",
       "    </tr>\n",
       "    <tr>\n",
       "      <th>Steve O'Hear</th>\n",
       "      <td>1885</td>\n",
       "    </tr>\n",
       "    <tr>\n",
       "      <th>Rip Empson</th>\n",
       "      <td>1676</td>\n",
       "    </tr>\n",
       "    <tr>\n",
       "      <th>Romain Dillet</th>\n",
       "      <td>1232</td>\n",
       "    </tr>\n",
       "  </tbody>\n",
       "</table>\n",
       "</div>"
      ],
      "text/plain": [
       "                     counts\n",
       "authors                    \n",
       "Sarah Perez            3772\n",
       "Anthony Ha             3232\n",
       "Ingrid Lunden          3026\n",
       "Darrell Etherington    2895\n",
       "Natasha Lomas          2555\n",
       "Jordan Crook           2278\n",
       "Josh Constine          2245\n",
       "Steve O'Hear           1885\n",
       "Rip Empson             1676\n",
       "Romain Dillet          1232"
      ]
     },
     "execution_count": 53,
     "metadata": {},
     "output_type": "execute_result"
    }
   ],
   "source": [
    "pd.DataFrame(df.groupby('authors').size().rename('counts')).sort_values('counts', ascending=False).head(10)"
   ]
  },
  {
   "cell_type": "code",
   "execution_count": 54,
   "metadata": {
    "collapsed": true
   },
   "outputs": [],
   "source": [
    "authors=['Sarah Perez','Anthony Ha','Darrell Etherington','Jordan Crook']"
   ]
  },
  {
   "cell_type": "code",
   "execution_count": 55,
   "metadata": {
    "collapsed": false
   },
   "outputs": [
    {
     "data": {
      "text/plain": [
       "12177"
      ]
     },
     "execution_count": 55,
     "metadata": {},
     "output_type": "execute_result"
    }
   ],
   "source": [
    "df=df[df['authors'].isin(authors)].ix[:,['authors','content']]\n",
    "df.rename(columns={'authors':'author'}, inplace=True)\n",
    "len(df)"
   ]
  },
  {
   "cell_type": "code",
   "execution_count": 56,
   "metadata": {
    "collapsed": false
   },
   "outputs": [
    {
     "data": {
      "text/html": [
       "<div>\n",
       "<table border=\"1\" class=\"dataframe\">\n",
       "  <thead>\n",
       "    <tr style=\"text-align: right;\">\n",
       "      <th></th>\n",
       "      <th>author</th>\n",
       "      <th>content</th>\n",
       "      <th>length</th>\n",
       "    </tr>\n",
       "  </thead>\n",
       "  <tbody>\n",
       "    <tr>\n",
       "      <th>11458</th>\n",
       "      <td>Darrell Etherington</td>\n",
       "      <td>We’ll be at Dogpatch Studios in SF to check ou...</td>\n",
       "      <td>341</td>\n",
       "    </tr>\n",
       "    <tr>\n",
       "      <th>11761</th>\n",
       "      <td>Darrell Etherington</td>\n",
       "      <td>Google didn’t go crazy and build a brand new C...</td>\n",
       "      <td>402</td>\n",
       "    </tr>\n",
       "    <tr>\n",
       "      <th>11654</th>\n",
       "      <td>Anthony Ha</td>\n",
       "      <td>Fitness tracker FitBit has updated the filing ...</td>\n",
       "      <td>432</td>\n",
       "    </tr>\n",
       "    <tr>\n",
       "      <th>30372</th>\n",
       "      <td>Jordan Crook</td>\n",
       "      <td>\\t\\nStartup Alley is a wondrous mix of foreign...</td>\n",
       "      <td>434</td>\n",
       "    </tr>\n",
       "    <tr>\n",
       "      <th>33944</th>\n",
       "      <td>Jordan Crook</td>\n",
       "      <td>\\t\\nStartup Alley is a wondrous mix of foreign...</td>\n",
       "      <td>434</td>\n",
       "    </tr>\n",
       "    <tr>\n",
       "      <th>2367</th>\n",
       "      <td>Darrell Etherington</td>\n",
       "      <td>I’ve been playing Pokémon Go for most of today...</td>\n",
       "      <td>451</td>\n",
       "    </tr>\n",
       "    <tr>\n",
       "      <th>791</th>\n",
       "      <td>Jordan Crook</td>\n",
       "      <td>Apple’s method of unveiling new products is me...</td>\n",
       "      <td>461</td>\n",
       "    </tr>\n",
       "    <tr>\n",
       "      <th>22958</th>\n",
       "      <td>Jordan Crook</td>\n",
       "      <td>Amazon is amped up right now. The company has ...</td>\n",
       "      <td>466</td>\n",
       "    </tr>\n",
       "    <tr>\n",
       "      <th>2350</th>\n",
       "      <td>Anthony Ha</td>\n",
       "      <td>A San Francisco judge has sentenced former Rad...</td>\n",
       "      <td>492</td>\n",
       "    </tr>\n",
       "    <tr>\n",
       "      <th>3271</th>\n",
       "      <td>Anthony Ha</td>\n",
       "      <td>Brandcast, a startup allowing marketers and de...</td>\n",
       "      <td>508</td>\n",
       "    </tr>\n",
       "  </tbody>\n",
       "</table>\n",
       "</div>"
      ],
      "text/plain": [
       "                    author                                            content  \\\n",
       "11458  Darrell Etherington  We’ll be at Dogpatch Studios in SF to check ou...   \n",
       "11761  Darrell Etherington  Google didn’t go crazy and build a brand new C...   \n",
       "11654           Anthony Ha  Fitness tracker FitBit has updated the filing ...   \n",
       "30372         Jordan Crook  \\t\\nStartup Alley is a wondrous mix of foreign...   \n",
       "33944         Jordan Crook  \\t\\nStartup Alley is a wondrous mix of foreign...   \n",
       "2367   Darrell Etherington  I’ve been playing Pokémon Go for most of today...   \n",
       "791           Jordan Crook  Apple’s method of unveiling new products is me...   \n",
       "22958         Jordan Crook  Amazon is amped up right now. The company has ...   \n",
       "2350            Anthony Ha  A San Francisco judge has sentenced former Rad...   \n",
       "3271            Anthony Ha  Brandcast, a startup allowing marketers and de...   \n",
       "\n",
       "       length  \n",
       "11458     341  \n",
       "11761     402  \n",
       "11654     432  \n",
       "30372     434  \n",
       "33944     434  \n",
       "2367      451  \n",
       "791       461  \n",
       "22958     466  \n",
       "2350      492  \n",
       "3271      508  "
      ]
     },
     "execution_count": 56,
     "metadata": {},
     "output_type": "execute_result"
    }
   ],
   "source": [
    "df['length'] = df['content'].str.len()\n",
    "df.sort_values('length', ascending=True).head(10)"
   ]
  },
  {
   "cell_type": "code",
   "execution_count": 57,
   "metadata": {
    "collapsed": false
   },
   "outputs": [
    {
     "data": {
      "text/plain": [
       "12177"
      ]
     },
     "execution_count": 57,
     "metadata": {},
     "output_type": "execute_result"
    }
   ],
   "source": [
    "df.drop(df[df.length<100].index, inplace=True)\n",
    "len(df)"
   ]
  },
  {
   "cell_type": "code",
   "execution_count": 58,
   "metadata": {
    "collapsed": false
   },
   "outputs": [
    {
     "data": {
      "text/html": [
       "<div>\n",
       "<table border=\"1\" class=\"dataframe\">\n",
       "  <thead>\n",
       "    <tr style=\"text-align: right;\">\n",
       "      <th></th>\n",
       "      <th>counts</th>\n",
       "    </tr>\n",
       "    <tr>\n",
       "      <th>author</th>\n",
       "      <th></th>\n",
       "    </tr>\n",
       "  </thead>\n",
       "  <tbody>\n",
       "    <tr>\n",
       "      <th>Sarah Perez</th>\n",
       "      <td>3772</td>\n",
       "    </tr>\n",
       "    <tr>\n",
       "      <th>Anthony Ha</th>\n",
       "      <td>3232</td>\n",
       "    </tr>\n",
       "    <tr>\n",
       "      <th>Darrell Etherington</th>\n",
       "      <td>2895</td>\n",
       "    </tr>\n",
       "    <tr>\n",
       "      <th>Jordan Crook</th>\n",
       "      <td>2278</td>\n",
       "    </tr>\n",
       "  </tbody>\n",
       "</table>\n",
       "</div>"
      ],
      "text/plain": [
       "                     counts\n",
       "author                     \n",
       "Sarah Perez            3772\n",
       "Anthony Ha             3232\n",
       "Darrell Etherington    2895\n",
       "Jordan Crook           2278"
      ]
     },
     "execution_count": 58,
     "metadata": {},
     "output_type": "execute_result"
    }
   ],
   "source": [
    "pd.DataFrame(df.groupby('author').size().rename('counts')).sort_values('counts', ascending=False)"
   ]
  },
  {
   "cell_type": "code",
   "execution_count": 59,
   "metadata": {
    "collapsed": false
   },
   "outputs": [],
   "source": [
    "import random\n",
    "from sklearn.cross_validation import train_test_split\n",
    "#2000 random sample rows for each author\n",
    "df_new=pd.DataFrame()\n",
    "posts_train=pd.DataFrame()\n",
    "posts_test=pd.DataFrame()\n",
    "author_train=pd.DataFrame()\n",
    "author_test=pd.DataFrame()\n",
    "for a in df.author.unique():\n",
    "    rows = random.sample(df[df['author']==a].index, 2000)\n",
    "    df_temp = df.ix[rows]\n",
    "    df_new=df_new.append(df_temp,ignore_index=True)    \n",
    "    X_train, X_test, Y_train, Y_test = train_test_split(df_temp.ix[:,['content']], df_temp.ix[:,['author']], test_size=0.3, random_state=42)\n",
    "    posts_train=posts_train.append(X_train, verify_integrity=False)\n",
    "    posts_test=posts_test.append(X_test, verify_integrity=False)\n",
    "    author_train=author_train.append(Y_train, verify_integrity=False)\n",
    "    author_test=author_test.append(Y_test, verify_integrity=False)"
   ]
  },
  {
   "cell_type": "markdown",
   "metadata": {},
   "source": [
    "Train set:"
   ]
  },
  {
   "cell_type": "code",
   "execution_count": 60,
   "metadata": {
    "collapsed": false
   },
   "outputs": [
    {
     "name": "stdout",
     "output_type": "stream",
     "text": [
      "(5600, 5600)\n"
     ]
    }
   ],
   "source": [
    "print (len(posts_train),len(author_train))"
   ]
  },
  {
   "cell_type": "markdown",
   "metadata": {},
   "source": [
    "Test set:"
   ]
  },
  {
   "cell_type": "code",
   "execution_count": 61,
   "metadata": {
    "collapsed": false
   },
   "outputs": [
    {
     "name": "stdout",
     "output_type": "stream",
     "text": [
      "(2400, 2400)\n"
     ]
    }
   ],
   "source": [
    "print(len(posts_test),len(author_test))"
   ]
  },
  {
   "cell_type": "code",
   "execution_count": 62,
   "metadata": {
    "collapsed": true
   },
   "outputs": [],
   "source": [
    "from nltk.tokenize import RegexpTokenizer\n",
    "from nltk.stem.porter import PorterStemmer\n",
    "def text_process(text):\n",
    "    \"\"\"\n",
    "    Takes in a string of text, then performs the following:\n",
    "    1. Tokenizes and removes punctuation\n",
    "    3. Stems\n",
    "    4. Returns a list of the cleaned text\n",
    "    \"\"\"\n",
    "\n",
    "    # tokenizing\n",
    "    tokenizer = RegexpTokenizer(r'\\w+')\n",
    "    text_processed=tokenizer.tokenize(text)\n",
    "    \n",
    "    \n",
    "    # steming\n",
    "    porter_stemmer = PorterStemmer()\n",
    "    \n",
    "    text_processed = [porter_stemmer.stem(word) for word in text_processed]\n",
    "    \n",
    "\n",
    "    return text_processed"
   ]
  },
  {
   "cell_type": "code",
   "execution_count": 63,
   "metadata": {
    "collapsed": true
   },
   "outputs": [],
   "source": [
    "ScoreSummaryByModelParams=list()"
   ]
  },
  {
   "cell_type": "code",
   "execution_count": 64,
   "metadata": {
    "collapsed": true
   },
   "outputs": [],
   "source": [
    "from sklearn.feature_extraction.text import CountVectorizer\n",
    "from sklearn.feature_extraction.text import TfidfTransformer\n",
    "from sklearn.feature_extraction.text import TfidfVectorizer\n",
    "from sklearn.pipeline import FeatureUnion\n",
    "from sklearn.pipeline import Pipeline\n",
    "from sklearn.grid_search import GridSearchCV"
   ]
  },
  {
   "cell_type": "code",
   "execution_count": 65,
   "metadata": {
    "collapsed": true
   },
   "outputs": [],
   "source": [
    "def ModelParamsEvaluation (f_union,model,params,comment):\n",
    "    pipeline = Pipeline([\n",
    "    # Extract the text & text_coded\n",
    "    # Use FeatureUnion to combine the features from different vectorizers\n",
    "    ('union', f_union),\n",
    "    # Use a  classifier on the combined features\n",
    "    ('clf', model)\n",
    "    ])\n",
    "    grid_search = GridSearchCV(estimator=pipeline, param_grid=params, verbose=1, cv=10)\n",
    "    grid_search.fit(posts_train['content'], author_train['author'])\n",
    "    #best score\n",
    "    print(\"Best score: %0.3f\" % grid_search.best_score_)\n",
    "    print(\"Best parameters set:\")\n",
    "    best_parameters = grid_search.best_estimator_.get_params()\n",
    "    for param_name in sorted(params.keys()):\n",
    "        print(\"\\t%s: %r\" % (param_name, best_parameters[param_name]))\n",
    "        ScoreSummaryByModelParams.append([comment,grid_search.best_score_,\"\\t%s: %r\" % (param_name, best_parameters[param_name])])    "
   ]
  },
  {
   "cell_type": "code",
   "execution_count": 66,
   "metadata": {
    "collapsed": true
   },
   "outputs": [],
   "source": [
    "f2_union=FeatureUnion(\n",
    "        transformer_list=[\n",
    "            # Pipeline for pulling char features  from the text\n",
    "            ('char', Pipeline([\n",
    "                ('tfidf',     TfidfVectorizer(analyzer='char',ngram_range=(3, 3))),\n",
    "            ])),\n",
    "            # Pipeline for pulling stememd word features from the text\n",
    "            ('text', Pipeline([\n",
    "                ('tfidf',    TfidfVectorizer(analyzer='word',tokenizer= text_process,ngram_range=(1, 1))),\n",
    "            ])),        \n",
    "\n",
    "        ],\n",
    "\n",
    "    )"
   ]
  },
  {
   "cell_type": "code",
   "execution_count": 67,
   "metadata": {
    "collapsed": false
   },
   "outputs": [
    {
     "name": "stdout",
     "output_type": "stream",
     "text": [
      "Fitting 10 folds for each of 5 candidates, totalling 50 fits\n"
     ]
    },
    {
     "name": "stderr",
     "output_type": "stream",
     "text": [
      "[Parallel(n_jobs=1)]: Done  49 tasks       | elapsed: 28.1min\n",
      "[Parallel(n_jobs=1)]: Done  50 out of  50 | elapsed: 28.7min finished\n"
     ]
    },
    {
     "name": "stdout",
     "output_type": "stream",
     "text": [
      "Best score: 0.985\n",
      "Best parameters set:\n",
      "\tclf__C: 1\n"
     ]
    }
   ],
   "source": [
    "from sklearn.svm import LinearSVC\n",
    "#LinearSVC\n",
    "p = {'clf__C': (1,0.1,0.01,0.001,0.0001)}\n",
    "ModelParamsEvaluation(f2_union,LinearSVC(),p,'LinearSVC')"
   ]
  },
  {
   "cell_type": "code",
   "execution_count": 68,
   "metadata": {
    "collapsed": false
   },
   "outputs": [
    {
     "name": "stdout",
     "output_type": "stream",
     "text": [
      "Fitting 10 folds for each of 5 candidates, totalling 50 fits\n"
     ]
    },
    {
     "name": "stderr",
     "output_type": "stream",
     "text": [
      "[Parallel(n_jobs=1)]: Done  49 tasks       | elapsed: 366.4min\n",
      "[Parallel(n_jobs=1)]: Done  50 out of  50 | elapsed: 375.6min finished\n"
     ]
    },
    {
     "name": "stdout",
     "output_type": "stream",
     "text": [
      "Best score: 0.982\n",
      "Best parameters set:\n",
      "\tclf__C: 1\n"
     ]
    }
   ],
   "source": [
    "from sklearn.svm import SVC\n",
    "p = {'clf__C': (1,0.1,0.01,0.001,0.0001)}\n",
    "ModelParamsEvaluation(f2_union,SVC(kernel='linear'),p,'SVC, linear kernel')"
   ]
  },
  {
   "cell_type": "code",
   "execution_count": 69,
   "metadata": {
    "collapsed": false
   },
   "outputs": [
    {
     "name": "stdout",
     "output_type": "stream",
     "text": [
      "Fitting 10 folds for each of 15 candidates, totalling 150 fits\n"
     ]
    },
    {
     "name": "stderr",
     "output_type": "stream",
     "text": [
      "[Parallel(n_jobs=1)]: Done  49 tasks       | elapsed: 27.2min\n",
      "[Parallel(n_jobs=1)]: Done 150 out of 150 | elapsed: 83.5min finished\n"
     ]
    },
    {
     "name": "stdout",
     "output_type": "stream",
     "text": [
      "Best score: 0.985\n",
      "Best parameters set:\n",
      "\tclf__alpha: 0.0001\n",
      "\tclf__penalty: 'elasticnet'\n"
     ]
    }
   ],
   "source": [
    "from sklearn.linear_model import SGDClassifier\n",
    "p = {'clf__alpha': (0.01,0.001,0.0001,0.00001, 0.000001),\n",
    "    'clf__penalty': ('l1','l2', 'elasticnet')}\n",
    "ModelParamsEvaluation (f2_union,SGDClassifier(),p,'SGD Classifier')"
   ]
  },
  {
   "cell_type": "code",
   "execution_count": 70,
   "metadata": {
    "collapsed": false
   },
   "outputs": [
    {
     "name": "stdout",
     "output_type": "stream",
     "text": [
      "Fitting 10 folds for each of 6 candidates, totalling 60 fits\n"
     ]
    },
    {
     "name": "stderr",
     "output_type": "stream",
     "text": [
      "[Parallel(n_jobs=1)]: Done  49 tasks       | elapsed: 26.4min\n",
      "[Parallel(n_jobs=1)]: Done  60 out of  60 | elapsed: 32.3min finished\n"
     ]
    },
    {
     "name": "stdout",
     "output_type": "stream",
     "text": [
      "Best score: 0.903\n",
      "Best parameters set:\n",
      "\tclf__alpha: 0.0001\n"
     ]
    }
   ],
   "source": [
    "from sklearn.naive_bayes import BernoulliNB\n",
    "p = {'clf__alpha': (1,0.1,0.01,0.001,0.0001,0)}\n",
    "ModelParamsEvaluation(f2_union,BernoulliNB(),p,'Bernoulli Naive Bayes')"
   ]
  },
  {
   "cell_type": "code",
   "execution_count": 71,
   "metadata": {
    "collapsed": false
   },
   "outputs": [
    {
     "data": {
      "text/html": [
       "<div>\n",
       "<table border=\"1\" class=\"dataframe\">\n",
       "  <thead>\n",
       "    <tr style=\"text-align: right;\">\n",
       "      <th></th>\n",
       "      <th>Method</th>\n",
       "      <th>BestScore</th>\n",
       "      <th>BestParameter</th>\n",
       "    </tr>\n",
       "  </thead>\n",
       "  <tbody>\n",
       "    <tr>\n",
       "      <th>0</th>\n",
       "      <td>LinearSVC</td>\n",
       "      <td>0.985179</td>\n",
       "      <td>\\tclf__C: 1</td>\n",
       "    </tr>\n",
       "    <tr>\n",
       "      <th>2</th>\n",
       "      <td>SGD Classifier</td>\n",
       "      <td>0.984643</td>\n",
       "      <td>\\tclf__alpha: 0.0001</td>\n",
       "    </tr>\n",
       "    <tr>\n",
       "      <th>3</th>\n",
       "      <td>SGD Classifier</td>\n",
       "      <td>0.984643</td>\n",
       "      <td>\\tclf__penalty: 'elasticnet'</td>\n",
       "    </tr>\n",
       "    <tr>\n",
       "      <th>1</th>\n",
       "      <td>SVC, linear kernel</td>\n",
       "      <td>0.981786</td>\n",
       "      <td>\\tclf__C: 1</td>\n",
       "    </tr>\n",
       "    <tr>\n",
       "      <th>4</th>\n",
       "      <td>Bernoulli Naive Bayes</td>\n",
       "      <td>0.902857</td>\n",
       "      <td>\\tclf__alpha: 0.0001</td>\n",
       "    </tr>\n",
       "  </tbody>\n",
       "</table>\n",
       "</div>"
      ],
      "text/plain": [
       "                  Method  BestScore                 BestParameter\n",
       "0              LinearSVC   0.985179                   \\tclf__C: 1\n",
       "2         SGD Classifier   0.984643          \\tclf__alpha: 0.0001\n",
       "3         SGD Classifier   0.984643  \\tclf__penalty: 'elasticnet'\n",
       "1     SVC, linear kernel   0.981786                   \\tclf__C: 1\n",
       "4  Bernoulli Naive Bayes   0.902857          \\tclf__alpha: 0.0001"
      ]
     },
     "execution_count": 71,
     "metadata": {},
     "output_type": "execute_result"
    }
   ],
   "source": [
    "df_ScoreSummaryByModelParams=DataFrame(ScoreSummaryByModelParams,columns=['Method','BestScore','BestParameter'])\n",
    "df_ScoreSummaryByModelParams.sort_values(['BestScore'],ascending=False,inplace=True)\n",
    "df_ScoreSummaryByModelParams"
   ]
  },
  {
   "cell_type": "code",
   "execution_count": 128,
   "metadata": {
    "collapsed": true
   },
   "outputs": [],
   "source": [
    "from sklearn.metrics import classification_report\n",
    "from sklearn.metrics import confusion_matrix\n",
    "from sklearn.metrics import precision_score, accuracy_score, recall_score, f1_score"
   ]
  },
  {
   "cell_type": "code",
   "execution_count": 129,
   "metadata": {
    "collapsed": true
   },
   "outputs": [],
   "source": [
    "ScoreSummaryByVector = list()"
   ]
  },
  {
   "cell_type": "code",
   "execution_count": 130,
   "metadata": {
    "collapsed": true
   },
   "outputs": [],
   "source": [
    "def PredictionEvaluation(author_test_b,author_predictions_b,target_names,comment):\n",
    "    Accuracy=accuracy_score(author_test_b,author_predictions_b)\n",
    "    Recall=recall_score(author_test_b, author_predicted_b, labels=[0,1,2,3], average='macro')\n",
    "    Precision=precision_score(author_test_b, author_predicted_b, labels=[0,1,2,3], average='macro')\n",
    "    F1=f1_score(author_test_b, author_predicted_b, labels=[0,1,2,3], average='macro')\n",
    "    ScoreSummaryByVector.append([Accuracy,Recall,Precision,F1,comment])\n",
    "    print(classification_report(author_test_b, author_predicted_b, target_names=target_names))"
   ]
  },
  {
   "cell_type": "code",
   "execution_count": 131,
   "metadata": {
    "collapsed": true
   },
   "outputs": [],
   "source": [
    "import matplotlib.pyplot as plt\n",
    "%matplotlib inline\n",
    "import itertools"
   ]
  },
  {
   "cell_type": "code",
   "execution_count": 132,
   "metadata": {
    "collapsed": true
   },
   "outputs": [],
   "source": [
    "#http://scikit-learn.org/stable/auto_examples/model_selection/plot_confusion_matrix.html#sphx-glr-auto-examples-model-selection-plot-confusion-matrix-py\n",
    "def plot_confusion_matrix(cm, classes,\n",
    "                          normalize=False,\n",
    "                          title='Confusion matrix',\n",
    "                          cmap=plt.cm.Blues):\n",
    "    \"\"\"\n",
    "    This function prints and plots the confusion matrix.\n",
    "    Normalization can be applied by setting `normalize=True`.\n",
    "    \"\"\"\n",
    "    plt.imshow(cm, interpolation='nearest', cmap=cmap)\n",
    "    plt.title(title)\n",
    "    plt.colorbar()\n",
    "    tick_marks = np.arange(len(classes))\n",
    "    plt.xticks(tick_marks, classes, rotation=45)\n",
    "    plt.yticks(tick_marks, classes)\n",
    "\n",
    "    if normalize:\n",
    "        cm = cm.astype('float') / cm.sum(axis=1)[:, np.newaxis]\n",
    "        print(\"Normalized confusion matrix\")\n",
    "    else:\n",
    "        print('Confusion matrix, without normalization')\n",
    "\n",
    "    print(cm)\n",
    "\n",
    "    thresh = cm.max() / 2.\n",
    "    for i, j in itertools.product(range(cm.shape[0]), range(cm.shape[1])):\n",
    "        plt.text(j, i, cm[i, j],\n",
    "                 horizontalalignment=\"center\",\n",
    "                 color=\"white\" if cm[i, j] > thresh else \"black\")\n",
    "\n",
    "    plt.tight_layout()\n",
    "    plt.ylabel('True label')\n",
    "    plt.xlabel('Predicted label')"
   ]
  },
  {
   "cell_type": "code",
   "execution_count": 133,
   "metadata": {
    "collapsed": false
   },
   "outputs": [],
   "source": [
    "def ModelRun (f_union,model):\n",
    "    pipeline = Pipeline([\n",
    "    # Extract the text & text_coded\n",
    "    # Use FeatureUnion to combine the features from different vectorizers\n",
    "    ('union', f_union),\n",
    "    # Use a  classifier on the combined features\n",
    "    ('clf', model)\n",
    "    ])\n",
    "    \n",
    "    pipeline.fit(posts_train['content'], author_train['author'])\n",
    "    \n",
    "    author_predicted = pipeline.predict(posts_test['content'])\n",
    "    \n",
    "    feature_names=list()\n",
    "    for p in (pipeline.get_params()['union'].transformer_list):\n",
    "        fn=(p[0],pipeline.get_params()['union'].get_params()[p[0]].get_params()['tfidf'].get_feature_names())\n",
    "        feature_names.append(fn)\n",
    "    df_fn=pd.DataFrame()\n",
    "    for fn in feature_names:\n",
    "        df_fn= df_fn.append(pd.DataFrame(\n",
    "        {'FeatureType': fn[0],\n",
    "         'Feature': fn[1]\n",
    "        }),\n",
    "        ignore_index=True)    \n",
    "    \n",
    "    from sklearn.preprocessing import LabelBinarizer\n",
    "    lb = LabelBinarizer()\n",
    "    author_test_b = lb.fit_transform(author_test['author'])\n",
    "    author_predicted_b  = lb.fit_transform(author_predicted)\n",
    "    return (df_fn,pipeline.get_params()['clf'],author_predicted,author_predicted_b, author_test_b)"
   ]
  },
  {
   "cell_type": "code",
   "execution_count": 134,
   "metadata": {
    "collapsed": false
   },
   "outputs": [],
   "source": [
    "(feature_names,clf,author_predicted,author_predicted_b, author_test_b)=ModelRun(f2_union,BernoulliNB(alpha=0.0001))\n",
    "target_names=clf.classes_"
   ]
  },
  {
   "cell_type": "code",
   "execution_count": 135,
   "metadata": {
    "collapsed": false
   },
   "outputs": [
    {
     "name": "stdout",
     "output_type": "stream",
     "text": [
      "                     precision    recall  f1-score   support\n",
      "\n",
      "         Anthony Ha       1.00      1.00      1.00       572\n",
      "Darrell Etherington       1.00      1.00      1.00       575\n",
      "       Jordan Crook       1.00      1.00      1.00       596\n",
      "        Sarah Perez       1.00      1.00      1.00       657\n",
      "\n",
      "        avg / total       1.00      1.00      1.00      2400\n",
      "\n"
     ]
    }
   ],
   "source": [
    "PredictionEvaluation(author_predicted_b, author_test_b,target_names,'BernoulliNB(alpha=0.0001)')"
   ]
  },
  {
   "cell_type": "code",
   "execution_count": 136,
   "metadata": {
    "collapsed": false
   },
   "outputs": [
    {
     "name": "stdout",
     "output_type": "stream",
     "text": [
      "Confusion matrix, without normalization\n",
      "[[551   1  26  22]\n",
      " [  5 528  32  35]\n",
      " [  6  22 534  38]\n",
      " [ 10  24   4 562]]\n"
     ]
    },
    {
     "data": {
      "image/png": "[encoded data removed]",
      "text/plain": [
       "<matplotlib.figure.Figure at 0x24cb3550>"
      ]
     },
     "metadata": {},
     "output_type": "display_data"
    }
   ],
   "source": [
    "plot_confusion_matrix(confusion_matrix(author_test['author'], author_predicted), target_names,\n",
    "                          normalize=False,\n",
    "                          title='Confusion matrix',\n",
    "                          cmap=plt.cm.Blues)"
   ]
  },
  {
   "cell_type": "code",
   "execution_count": 137,
   "metadata": {
    "collapsed": true
   },
   "outputs": [],
   "source": [
    "(feature_names,clf,author_predicted,author_predicted_b, author_test_b)=ModelRun(f2_union,LinearSVC(C=1))\n",
    "target_names=clf.classes_"
   ]
  },
  {
   "cell_type": "code",
   "execution_count": 138,
   "metadata": {
    "collapsed": false
   },
   "outputs": [
    {
     "name": "stdout",
     "output_type": "stream",
     "text": [
      "                     precision    recall  f1-score   support\n",
      "\n",
      "         Anthony Ha       1.00      1.00      1.00       602\n",
      "Darrell Etherington       1.00      1.00      1.00       608\n",
      "       Jordan Crook       1.00      1.00      1.00       594\n",
      "        Sarah Perez       1.00      1.00      1.00       596\n",
      "\n",
      "        avg / total       1.00      1.00      1.00      2400\n",
      "\n"
     ]
    }
   ],
   "source": [
    "PredictionEvaluation(author_predicted_b, author_test_b,target_names,'LinearSVC(C=1)')"
   ]
  },
  {
   "cell_type": "code",
   "execution_count": 139,
   "metadata": {
    "collapsed": false
   },
   "outputs": [
    {
     "name": "stdout",
     "output_type": "stream",
     "text": [
      "Confusion matrix, without normalization\n",
      "[[594   1   2   3]\n",
      " [  2 595   2   1]\n",
      " [  2  10 587   1]\n",
      " [  4   2   3 591]]\n"
     ]
    },
    {
     "data": {
      "image/png": "[encoded data removed]",
      "text/plain": [
       "<matplotlib.figure.Figure at 0x2bad4be0>"
      ]
     },
     "metadata": {},
     "output_type": "display_data"
    }
   ],
   "source": [
    "plot_confusion_matrix(confusion_matrix(author_test['author'], author_predicted), target_names,\n",
    "                          normalize=False,\n",
    "                          title='Confusion matrix',\n",
    "                          cmap=plt.cm.Blues)"
   ]
  },
  {
   "cell_type": "code",
   "execution_count": 140,
   "metadata": {
    "collapsed": false
   },
   "outputs": [
    {
     "data": {
      "text/html": [
       "<div>\n",
       "<table border=\"1\" class=\"dataframe\">\n",
       "  <thead>\n",
       "    <tr style=\"text-align: right;\">\n",
       "      <th></th>\n",
       "      <th>Precision</th>\n",
       "      <th>Accuracy</th>\n",
       "      <th>Recall</th>\n",
       "      <th>F1</th>\n",
       "      <th>Comment</th>\n",
       "    </tr>\n",
       "  </thead>\n",
       "  <tbody>\n",
       "    <tr>\n",
       "      <th>0</th>\n",
       "      <td>0.90625</td>\n",
       "      <td>1.0</td>\n",
       "      <td>1.0</td>\n",
       "      <td>1.0</td>\n",
       "      <td>BernoulliNB(alpha=0.0001)</td>\n",
       "    </tr>\n",
       "    <tr>\n",
       "      <th>1</th>\n",
       "      <td>0.98625</td>\n",
       "      <td>1.0</td>\n",
       "      <td>1.0</td>\n",
       "      <td>1.0</td>\n",
       "      <td>LinearSVC(C=1)</td>\n",
       "    </tr>\n",
       "  </tbody>\n",
       "</table>\n",
       "</div>"
      ],
      "text/plain": [
       "   Precision  Accuracy  Recall   F1                    Comment\n",
       "0    0.90625       1.0     1.0  1.0  BernoulliNB(alpha=0.0001)\n",
       "1    0.98625       1.0     1.0  1.0             LinearSVC(C=1)"
      ]
     },
     "execution_count": 140,
     "metadata": {},
     "output_type": "execute_result"
    }
   ],
   "source": [
    "df_ScoreSummaryByVector=DataFrame(ScoreSummaryByVector,columns=['Precision','Accuracy','Recall','F1','Comment'])\n",
    "df_ScoreSummaryByVector.sort_values(['F1'],ascending=False,inplace=True)\n",
    "df_ScoreSummaryByVector"
   ]
  }
 ],
 "metadata": {
  "anaconda-cloud": {},
  "kernelspec": {
   "display_name": "Python [conda root]",
   "language": "python",
   "name": "conda-root-py"
  },
  "language_info": {
   "codemirror_mode": {
    "name": "ipython",
    "version": 2
   },
   "file_extension": ".py",
   "mimetype": "text/x-python",
   "name": "python",
   "nbconvert_exporter": "python",
   "pygments_lexer": "ipython2",
   "version": "2.7.12"
  }
 },
 "nbformat": 4,
 "nbformat_minor": 1
}
